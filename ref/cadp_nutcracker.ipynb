{
 "cells": [
  {
   "cell_type": "code",
   "execution_count": 26,
   "metadata": {
    "collapsed": false
   },
   "outputs": [
    {
     "name": "stdout",
     "output_type": "stream",
     "text": [
      "t*sqrt(-225*sin(theta)**2 + 529)/10 - sqrt(-225*sin(theta)**2 + 529)/92 + 3*cos(theta)/2, (-3*t/2 + 123/92)*sin(theta)\n"
     ]
    }
   ],
   "source": [
    "# 假如 Jupyter 所在機器並未安裝 sympy, 可以利用 sudo pip3 install sympy 安裝\n",
    "import sympy\n",
    "#print(\"已經可以使用 sympy!\")\n",
    "# 假設 hinge 旋轉點為 A, handle 與 connection 連接旋轉點為 B, piston 與 connection 的滑塊點為 C\n",
    "# B 點向 AC 線段的垂直投影點設為 D\n",
    "# 首先, 令 theta 為 sympy 模式下的符號變數\n",
    "theta = sympy.Symbol('theta')\n",
    "# A 點到 B 點的距離為 r\n",
    "r = 1.5\n",
    "# B 點到 C 點的距離為 2.3\n",
    "bc = 2.3\n",
    "# A 點的 x 座標為 0\n",
    "ax = 0\n",
    "# A 點的 y 座標為 0\n",
    "ay = 0\n",
    "# 利用 sc 與 ss 表示 sympy 模式下的 cos(theta) 與 sin(theta)\n",
    "sc = sympy.cos(theta)\n",
    "ss = sympy.sin(theta)\n",
    "# ad 為 A 點到 D 點的距離\n",
    "ad = r*sc\n",
    "bd = r*ss\n",
    "# 利用三角函數求 B 點的座標, bx 為 B 點 x 分量, by 為 B 點 y 分量\n",
    "bx = ax + ad\n",
    "by = ay + bd\n",
    "# 根據 BCD 三點所圍成的三角形, 已知 bd 與 bc 長度, 從畢氏定理可以求 dc 長度\n",
    "dc = sympy.sqrt(bc*bc - bd*bd)\n",
    "# 求 C 點的座標, cx 為 C 點的 x 座標, cy 為 C 點的 y 座標\n",
    "cx = ax + ad + dc\n",
    "cy = ay\n",
    "#print(\"bx = \", bx, \", by = \", by)\n",
    "#print(\"cx = \", cx, \", cy = \", cy)\n",
    "# 以下透過 B 點與 C 點座標, 求 connect 零件 B' 與 C' 的座標\n",
    "# 關鍵角度為 <BCD\n",
    "# 利用 dc 與 bd 長度計算 <BCD\n",
    "angle_bcd = sympy.atan2(dc, bd)\n",
    "offset_r = 0.25\n",
    "bprimex = bx-offset_r*sympy.sin(angle_bcd)\n",
    "bprimey = by-offset_r*sympy.cos(angle_bcd)\n",
    "cprimex = cx-offset_r*sympy.sin(angle_bcd)\n",
    "cprimey = cy-offset_r*sympy.cos(angle_bcd)\n",
    "#b = sympy.Point(bx, by)\n",
    "#c = sympy.Point(cx, cy)\n",
    "# 根據 B' 與 C' 的座標, 建立 sympy 模式下的 Point 物件案例\n",
    "bprime = sympy.Point(bprimex, bprimey)\n",
    "cprime = sympy.Point(cprimex, cprimey)\n",
    "# 設 sympy 模式下的 Line 方程式變數為 t,當 t=0, 指 Line 的 B' 點\n",
    "# 而 t=1 時, 指 Line 的 C' 點\n",
    "t = sympy.Symbol('t')\n",
    "#bcline = sympy.Line(b, c)\n",
    "# 利用 bprime 與 cprime 建立 Line\n",
    "bcprimeline = sympy.Line(bprime, cprime)\n",
    "# 列出 BC 線段上的點座標\n",
    "#p = bcline.arbitrary_point(t)\n",
    "#print(p.x, p.y, sep=\", \")\n",
    "# 令 p 為 B'C' 直線的方程式, 從上述推導知此方程式為 t 與 theta 變數的函式\n",
    "p = bcprimeline.arbitrary_point(t)\n",
    "# 將此 B'C' 直線方程式的 x 分量與 y 分量方程式列出\n",
    "print(p.x, p.y, sep=\", \")\n",
    "#將符號式運算與數值運算分開, 可以提升運算速度\n",
    "# 進行數值分析, 搜尋交點對應的 t 與 theta\n",
    "#ax = 0.75/2\n",
    "#ay = 0.5\n",
    "#deg  = math.pi/ 180\n",
    "# 準確到小數二位\n",
    "#num = 500\n",
    "#for j in range(0, 180*num):\n",
    "#    for i in range(0, 501):\n",
    "#        theta_value = j/num*deg\n",
    "#        t_value = i/500\n",
    "#        x = p.x.evalf(subs={theta: theta_value, t: t_value})\n",
    "#        y = p.y.evalf(subs={theta: theta_value, t: t_value})\n",
    "#        if math.sqrt((math.pow(x-ax, 2)+math.pow(y-ay, 2))/2) < 0.001:"
   ]
  },
  {
   "cell_type": "code",
   "execution_count": 31,
   "metadata": {
    "collapsed": false
   },
   "outputs": [
    {
     "name": "stdout",
     "output_type": "stream",
     "text": [
      "0.37505 0.50006 105.705 0.545\n",
      "0.37494 0.50005 105.71 0.545\n"
     ]
    }
   ],
   "source": [
    "# 進行數值分析, 搜尋交點對應的 t 與 theta\n",
    "from math import *\n",
    "ax = 0.75/2\n",
    "ay = 0.5\n",
    "deg  = pi/ 180\n",
    "# 準確到小數二位\n",
    "num = 200\n",
    "for j in range(0, 180*num):\n",
    "    for i in range(0, 201):\n",
    "        theta_value = j/num*deg\n",
    "        t_value = i/200\n",
    "        theta = theta_value\n",
    "        t = t_value\n",
    "        x = t*sqrt(-225*sin(theta)**2 + 529)/10 - sqrt(-225*sin(theta)**2 + 529)/92 + 3*cos(theta)/2\n",
    "        y = (-3*t/2 + 123/92)*sin(theta)\n",
    "        if abs(x-ax)<0.0001 and abs(y-ay)<0.0001:\n",
    "            print(round(x,5), round(y, 5), round(theta_value/deg, 3), round(t_value, 5))\n",
    "            #print(abs(x-ax), abs(y-ay))"
   ]
  },
  {
   "cell_type": "code",
   "execution_count": null,
   "metadata": {
    "collapsed": true
   },
   "outputs": [],
   "source": []
  }
 ],
 "metadata": {
  "kernelspec": {
   "display_name": "Python 3",
   "language": "python",
   "name": "python3"
  },
  "language_info": {
   "codemirror_mode": {
    "name": "ipython",
    "version": 3
   },
   "file_extension": ".py",
   "mimetype": "text/x-python",
   "name": "python",
   "nbconvert_exporter": "python",
   "pygments_lexer": "ipython3",
   "version": "3.4.3"
  }
 },
 "nbformat": 4,
 "nbformat_minor": 0
}
